{
 "cells": [
  {
   "cell_type": "code",
   "execution_count": 3,
   "metadata": {
    "scrolled": false
   },
   "outputs": [
    {
     "name": "stdout",
     "output_type": "stream",
     "text": [
      "[(1, 'rb2001', 'SHFE', '2019-10-23 22:28:00', '1m', 7204.0, 3447488.0, 3308.0, 3309.0000000000005, 3307.0, 3308.0), (2, 'sc2003', 'INE', '2019-10-23 22:29:00', '1m', 0.0, 392.0, 430.50000000000006, 430.50000000000006, 430.50000000000006, 430.50000000000006), (3, 'rb2001', 'SHFE', '2019-10-23 22:29:00', '1m', 8304.0, 3447992.0, 3307.0000000000005, 3308.0000000000005, 3306.0, 3308.0), (4, 'sc2003', 'INE', '2019-10-23 22:30:00', '1m', 12.0, 394.0, 430.50000000000006, 433.2, 430.50000000000006, 433.0), (5, 'rb2001', 'SHFE', '2019-10-23 22:30:00', '1m', 26166.0, 3443340.0, 3307.0, 3311.0000000000005, 3307.0, 3311.0000000000005), (6, 'sc2003', 'INE', '2019-10-23 22:31:00', '1m', 0.0, 394.0, 433.0, 433.0, 433.0, 433.0), (7, 'rb2001', 'SHFE', '2019-10-23 22:31:00', '1m', 8710.0, 3442928.0, 3311.0000000000005, 3311.0000000000005, 3309.0, 3310.0), (8, 'sc2003', 'INE', '2019-10-23 22:32:00', '1m', 0.0, 394.0, 433.0, 433.0, 433.0, 433.0), (9, 'rb2001', 'SHFE', '2019-10-23 22:32:00', '1m', 4016.0, 3442744.0, 3309.0, 3309.0000000000005, 3308.0, 3308.0), (10, 'sc2003', 'INE', '2019-10-23 22:33:00', '1m', 0.0, 394.0, 433.0, 433.0, 433.0, 433.0)]\n",
      "rb2001\n",
      "SHFE\n",
      "sc2003\n",
      "INE\n",
      "rb2001\n",
      "SHFE\n",
      "sc2003\n",
      "INE\n",
      "rb2001\n",
      "SHFE\n",
      "sc2003\n",
      "INE\n",
      "rb2001\n",
      "SHFE\n",
      "sc2003\n",
      "INE\n",
      "rb2001\n",
      "SHFE\n",
      "sc2003\n",
      "INE\n"
     ]
    }
   ],
   "source": [
    "import sqlite3\n",
    "\n",
    "database_path = 'C:\\\\self_vnpy\\\\.vntrader\\\\database.db'\n",
    "connect = sqlite3.connect(database_path)\n",
    "cursor = connect.cursor()\n",
    "\n",
    "    \n",
    "cursor.execute(\"select * from dbbardata\")\n",
    "result = cursor.fetchall()\n",
    "\n",
    "print(result[:10])\n",
    "\n",
    "for row in result[:10]:\n",
    "    print(row[1])    \n",
    "    print(row[2])\n",
    "\n",
    "\n",
    "cursor.close()\n",
    "connect.close()"
   ]
  },
  {
   "cell_type": "code",
   "execution_count": null,
   "metadata": {},
   "outputs": [],
   "source": [
    "import os\n",
    "\n",
    "print(os.path.abspath('./'))"
   ]
  },
  {
   "cell_type": "code",
   "execution_count": null,
   "metadata": {},
   "outputs": [],
   "source": []
  }
 ],
 "metadata": {
  "kernelspec": {
   "display_name": "Python 3",
   "language": "python",
   "name": "python3"
  },
  "language_info": {
   "codemirror_mode": {
    "name": "ipython",
    "version": 3
   },
   "file_extension": ".py",
   "mimetype": "text/x-python",
   "name": "python",
   "nbconvert_exporter": "python",
   "pygments_lexer": "ipython3",
   "version": "3.7.1"
  }
 },
 "nbformat": 4,
 "nbformat_minor": 2
}

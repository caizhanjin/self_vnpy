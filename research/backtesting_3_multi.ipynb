{
 "cells": [
  {
   "cell_type": "code",
   "execution_count": null,
   "metadata": {
    "scrolled": false
   },
   "outputs": [],
   "source": [
    "\"\"\"\n",
    "用来批量回测做对比，变量是品种\n",
    "\"\"\"\n",
    "from datetime import datetime\n",
    "from vnpy.app.cta_strategy.backtesting import BacktestingEngine, OptimizationSetting\n",
    "\n",
    "from research_strategies.breaker.r_break_strategy_5 import RBreakStrategy\n",
    "# from research_strategies.turtle.turtle_strategy_3 import TurtleStrategy"
   ]
  },
  {
   "cell_type": "code",
   "execution_count": null,
   "metadata": {},
   "outputs": [],
   "source": [
    "varieties = [\n",
    "    'bu8888.SHFE',\n",
    "    'RB8888.SHFE',\n",
    "    'SR8888.CZCE'\n",
    "]\n",
    "\n",
    "engine_dict = {}\n",
    "for item in varieties:\n",
    "    print('*****************************************')\n",
    "    print(f'开始回测{item}:')\n",
    "\n",
    "    engine = BacktestingEngine()\n",
    "    engine.set_parameters(\n",
    "        vt_symbol=item,\n",
    "        interval=\"1m\",\n",
    "        start=datetime(2015, 1, 1),\n",
    "        end=datetime(2019, 11, 15),\n",
    "        rate=0.3/10000, # 保证金比例\n",
    "        slippage=0.2,  # 滑点\n",
    "        size=10,  # 合约乘数\n",
    "        pricetick=0.2, # 最小价格变动\n",
    "        capital=1_000_000,\n",
    "    )\n",
    "    engine.add_strategy(RBreakStrategy, {\n",
    "        'fixed_size': 50\n",
    "    })\n",
    "\n",
    "    engine.load_data()\n",
    "    engine.run_backtesting()\n",
    "    engine.calculate_result()\n",
    "    engine_dict[item] = engine\n",
    "\n",
    "for key_engine, item_engine in engine_dict.items():\n",
    "    print('*****************************************')\n",
    "    print(f'{key_engine} 回测数据:')\n",
    "    item_engine.calculate_statistics()\n",
    "    item_engine.show_chart()"
   ]
  },
  {
   "cell_type": "code",
   "execution_count": null,
   "metadata": {
    "scrolled": false
   },
   "outputs": [],
   "source": []
  }
 ],
 "metadata": {
  "kernelspec": {
   "display_name": "Python 3",
   "language": "python",
   "name": "python3"
  },
  "language_info": {
   "codemirror_mode": {
    "name": "ipython",
    "version": 3
   },
   "file_extension": ".py",
   "mimetype": "text/x-python",
   "name": "python",
   "nbconvert_exporter": "python",
   "pygments_lexer": "ipython3",
   "version": "3.7.1"
  }
 },
 "nbformat": 4,
 "nbformat_minor": 2
}

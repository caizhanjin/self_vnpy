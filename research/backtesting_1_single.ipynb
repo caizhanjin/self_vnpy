{
 "cells": [
  {
   "cell_type": "code",
   "execution_count": 2,
   "metadata": {
    "scrolled": false
   },
   "outputs": [
    {
     "name": "stdout",
     "output_type": "stream",
     "text": [
      "2020-01-08 15:43:14.754099\t开始加载历史数据\n",
      "2020-01-08 15:43:14.754099\t历史数据加载完成，数据量：0\n",
      "2020-01-08 15:43:14.754099\t策略初始化完成\n",
      "2020-01-08 15:43:14.754099\t开始回放历史数据\n",
      "2020-01-08 15:43:14.754099\t历史数据回放结束\n",
      "2020-01-08 15:43:14.754099\t开始计算逐日盯市盈亏\n",
      "2020-01-08 15:43:14.754099\t成交记录为空，无法计算\n",
      "2020-01-08 15:43:14.754099\t开始计算策略统计指标\n",
      "2020-01-08 15:43:14.754099\t------------------------------\n",
      "2020-01-08 15:43:14.754099\t首个交易日：\t\n",
      "2020-01-08 15:43:14.754099\t最后交易日：\t\n",
      "2020-01-08 15:43:14.754099\t总交易日：\t0\n",
      "2020-01-08 15:43:14.754099\t盈利交易日：\t0\n",
      "2020-01-08 15:43:14.754099\t亏损交易日：\t0\n",
      "2020-01-08 15:43:14.754099\t起始资金：\t1,000,000.00\n",
      "2020-01-08 15:43:14.755095\t结束资金：\t0.00\n",
      "2020-01-08 15:43:14.755095\t总收益率：\t0.00%\n",
      "2020-01-08 15:43:14.755095\t年化收益：\t0.00%\n",
      "2020-01-08 15:43:14.755095\t最大回撤: \t0.00\n",
      "2020-01-08 15:43:14.755095\t百分比最大回撤: 0.00%\n",
      "2020-01-08 15:43:14.755095\t最长回撤天数: \t0\n",
      "2020-01-08 15:43:14.755095\t总盈亏：\t0.00\n",
      "2020-01-08 15:43:14.755095\t总手续费：\t0.00\n",
      "2020-01-08 15:43:14.755095\t总滑点：\t0.00\n",
      "2020-01-08 15:43:14.755095\t总成交金额：\t0.00\n",
      "2020-01-08 15:43:14.755095\t总成交笔数：\t0\n",
      "2020-01-08 15:43:14.755095\t日均盈亏：\t0.00\n",
      "2020-01-08 15:43:14.755095\t日均手续费：\t0.00\n",
      "2020-01-08 15:43:14.755095\t日均滑点：\t0.00\n",
      "2020-01-08 15:43:14.755095\t日均成交金额：\t0.00\n",
      "2020-01-08 15:43:14.755095\t日均成交笔数：\t0\n",
      "2020-01-08 15:43:14.755095\t日均收益率：\t0.00%\n",
      "2020-01-08 15:43:14.755095\t收益标准差：\t0.00%\n",
      "2020-01-08 15:43:14.755095\tSharpe Ratio：\t0.00\n",
      "2020-01-08 15:43:14.755095\t收益回撤比：\t0.00\n"
     ]
    },
    {
     "data": {
      "text/plain": [
       "{'start_date': '',\n",
       " 'end_date': '',\n",
       " 'total_days': 0,\n",
       " 'profit_days': 0,\n",
       " 'loss_days': 0,\n",
       " 'capital': 1000000,\n",
       " 'end_balance': 0,\n",
       " 'max_drawdown': 0,\n",
       " 'max_ddpercent': 0,\n",
       " 'max_drawdown_duration': 0,\n",
       " 'total_net_pnl': 0,\n",
       " 'daily_net_pnl': 0,\n",
       " 'total_commission': 0,\n",
       " 'daily_commission': 0,\n",
       " 'total_slippage': 0,\n",
       " 'daily_slippage': 0,\n",
       " 'total_turnover': 0,\n",
       " 'daily_turnover': 0,\n",
       " 'total_trade_count': 0,\n",
       " 'daily_trade_count': 0,\n",
       " 'total_return': 0,\n",
       " 'annual_return': 0,\n",
       " 'daily_return': 0,\n",
       " 'return_std': 0,\n",
       " 'sharpe_ratio': 0,\n",
       " 'return_drawdown_ratio': 0}"
      ]
     },
     "execution_count": 2,
     "metadata": {},
     "output_type": "execute_result"
    }
   ],
   "source": [
    "\"\"\"\n",
    "策略开发使用\n",
    "\"\"\"\n",
    "from datetime import datetime\n",
    "from vnpy.app.cta_strategy.backtesting import BacktestingEngine, OptimizationSetting\n",
    "\n",
    "# from vnpy.app.cta_strategy.strategies.atr_rsi_strategy import AtrRsiStrategy\n",
    "from research_strategies.breaker.r_break_strategy_5 import RBreakStrategy\n",
    "\n",
    "engine = BacktestingEngine()\n",
    "engine.set_parameters(\n",
    "    vt_symbol=\"RB99.SHFE\",\n",
    "    interval=\"1m\",\n",
    "    start=datetime(2015, 1, 1),\n",
    "    end=datetime(2015, 6, 28),\n",
    "    rate=0.3/10000,\n",
    "    slippage=0.2,\n",
    "    size=300,\n",
    "    pricetick=0.2, # 最小价格变动\n",
    "    capital=1_000_000,\n",
    ")\n",
    "engine.add_strategy(RBreakStrategy, {})\n",
    "\n",
    "engine.load_data()\n",
    "engine.run_backtesting()\n",
    "df = engine.calculate_result()\n",
    "engine.calculate_statistics()"
   ]
  },
  {
   "cell_type": "code",
   "execution_count": null,
   "metadata": {},
   "outputs": [],
   "source": [
    "engine.show_chart()"
   ]
  },
  {
   "cell_type": "code",
   "execution_count": null,
   "metadata": {},
   "outputs": [],
   "source": []
  }
 ],
 "metadata": {
  "kernelspec": {
   "display_name": "Python 3",
   "language": "python",
   "name": "python3"
  },
  "language_info": {
   "codemirror_mode": {
    "name": "ipython",
    "version": 3
   },
   "file_extension": ".py",
   "mimetype": "text/x-python",
   "name": "python",
   "nbconvert_exporter": "python",
   "pygments_lexer": "ipython3",
   "version": "3.7.1"
  }
 },
 "nbformat": 4,
 "nbformat_minor": 2
}

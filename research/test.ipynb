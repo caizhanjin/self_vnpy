{
 "cells": [
  {
   "cell_type": "code",
   "execution_count": 8,
   "metadata": {
    "scrolled": true
   },
   "outputs": [
    {
     "name": "stdout",
     "output_type": "stream",
     "text": [
      "345\n"
     ]
    }
   ],
   "source": [
    "from tools.database import DatabaseSqlite\n",
    "\n",
    "queryset = DatabaseSqlite()\n",
    "result = queryset.query_future(symbol='rb2001', begin_date='2019-11-11', end_date='2019-11-11')\n",
    "\n",
    "print(len(result))"
   ]
  },
  {
   "cell_type": "code",
   "execution_count": 12,
   "metadata": {},
   "outputs": [
    {
     "name": "stdout",
     "output_type": "stream",
     "text": [
      "1\n",
      "('123',)\n",
      "hi123\n"
     ]
    }
   ],
   "source": [
    " def count_num(func):\n",
    "    count = 0\n",
    "    def wrapper(*test):\n",
    "        nonlocal count\n",
    "        count += 1\n",
    "        print(count)\n",
    "        \n",
    "        print(test)\n",
    "        \n",
    "        func(*test)\n",
    "        \n",
    "    return wrapper\n",
    "\n",
    "@count_num\n",
    "def say_hi(a):\n",
    "    print('hi'+a)\n",
    "    \n",
    "say_hi('123')"
   ]
  },
  {
   "cell_type": "code",
   "execution_count": null,
   "metadata": {},
   "outputs": [],
   "source": []
  }
 ],
 "metadata": {
  "kernelspec": {
   "display_name": "Python 3",
   "language": "python",
   "name": "python3"
  },
  "language_info": {
   "codemirror_mode": {
    "name": "ipython",
    "version": 3
   },
   "file_extension": ".py",
   "mimetype": "text/x-python",
   "name": "python",
   "nbconvert_exporter": "python",
   "pygments_lexer": "ipython3",
   "version": "3.7.1"
  }
 },
 "nbformat": 4,
 "nbformat_minor": 2
}

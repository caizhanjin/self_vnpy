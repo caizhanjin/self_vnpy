{
 "cells": [
  {
   "cell_type": "code",
   "execution_count": null,
   "metadata": {},
   "outputs": [],
   "source": [
    "\"\"\"\n",
    "优化参数使用\n",
    "\"\"\"\n",
    "from datetime import datetime\n",
    "from vnpy.app.cta_strategy.backtesting import BacktestingEngine, OptimizationSetting\n",
    "\n",
    "from research_strategies.breaker.r_break_strategy_5 import RBreakStrategy\n",
    "# from research_strategies.turtle.turtle_strategy_3 import TurtleStrategy"
   ]
  },
  {
   "cell_type": "code",
   "execution_count": null,
   "metadata": {},
   "outputs": [],
   "source": [
    "engine = BacktestingEngine()\n",
    "engine.set_parameters(\n",
    "    vt_symbol=\"SR8888.CZCE\",\n",
    "    interval=\"1m\",\n",
    "    start=datetime(2015, 1, 1),\n",
    "    end=datetime(2019, 12, 30),\n",
    "    rate=0.3/10000,  # 保证金比例\n",
    "    slippage=0.2,  # 滑点\n",
    "    size=10,  # 合约乘数\n",
    "    pricetick=0.2,\n",
    "    capital=1_000_000,\n",
    ")\n",
    "engine.add_strategy(RBreakStrategy, {\n",
    "    'break_rate': 0.5,\n",
    "    'stop_rate': 0.5,\n",
    "    'tend_length': 10,\n",
    "    'fixed_size': 50\n",
    "})\n",
    "engine.load_data()\n",
    "engine.run_backtesting()\n",
    "df = engine.calculate_result()\n",
    "engine.calculate_statistics()\n",
    "engine.show_chart()"
   ]
  },
  {
   "cell_type": "code",
   "execution_count": null,
   "metadata": {
    "scrolled": true
   },
   "outputs": [],
   "source": [
    "setting = OptimizationSetting()\n",
    "setting.set_target(\"sharpe_ratio\")\n",
    "setting.add_parameter(\"break_rate\", 0.4, 0.6, 0.1)\n",
    "setting.add_parameter(\"stop_rate\", 0.4, 0.6, 0.1)\n",
    "setting.add_parameter(\"tend_length\", 10, 30, 2)\n",
    "\n",
    "engine.run_ga_optimization(setting)"
   ]
  },
  {
   "cell_type": "code",
   "execution_count": null,
   "metadata": {},
   "outputs": [],
   "source": []
  }
 ],
 "metadata": {
  "kernelspec": {
   "display_name": "Python 3",
   "language": "python",
   "name": "python3"
  },
  "language_info": {
   "codemirror_mode": {
    "name": "ipython",
    "version": 3
   },
   "file_extension": ".py",
   "mimetype": "text/x-python",
   "name": "python",
   "nbconvert_exporter": "python",
   "pygments_lexer": "ipython3",
   "version": "3.7.1"
  }
 },
 "nbformat": 4,
 "nbformat_minor": 2
}

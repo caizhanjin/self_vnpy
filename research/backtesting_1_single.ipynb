{
 "cells": [
  {
   "cell_type": "code",
   "execution_count": 1,
   "metadata": {
    "scrolled": false
   },
   "outputs": [
    {
     "name": "stdout",
     "output_type": "stream",
     "text": [
      "2020-03-19 22:03:48.829873\t开始加载历史数据\n",
      "2020-03-19 22:04:07.887501\t历史数据加载完成，数据量：353250\n",
      "2020-03-19 22:04:08.009122\t策略初始化完成\n",
      "2020-03-19 22:04:08.009122\t开始回放历史数据\n",
      "2020-03-19 22:04:13.656277\t历史数据回放结束\n",
      "2020-03-19 22:04:13.657262\t开始计算逐日盯市盈亏\n",
      "2020-03-19 22:04:13.711824\t逐日盯市盈亏计算完成\n",
      "2020-03-19 22:04:13.712163\t开始计算策略统计指标\n",
      "2020-03-19 22:04:13.721780\t------------------------------\n",
      "2020-03-19 22:04:13.721780\t首个交易日：\t2016-03-01\n",
      "2020-03-19 22:04:13.721879\t最后交易日：\t2019-11-29\n",
      "2020-03-19 22:04:13.721879\t总交易日：\t917\n",
      "2020-03-19 22:04:13.721879\t盈利交易日：\t187\n",
      "2020-03-19 22:04:13.721879\t亏损交易日：\t730\n",
      "2020-03-19 22:04:13.721879\t起始资金：\t1,000,000.00\n",
      "2020-03-19 22:04:13.721879\t结束资金：\t-10,923,286.44\n",
      "2020-03-19 22:04:13.721879\t总收益率：\t-1,192.33%\n",
      "2020-03-19 22:04:13.721879\t年化收益：\t-312.06%\n",
      "2020-03-19 22:04:13.721879\t最大回撤: \t-11,950,303.90\n",
      "2020-03-19 22:04:13.721879\t百分比最大回撤: -1,163.59%\n",
      "2020-03-19 22:04:13.721879\t最长回撤天数: \t1365\n",
      "2020-03-19 22:04:13.721879\t总盈亏：\t-11,923,286.44\n",
      "2020-03-19 22:04:13.721879\t总手续费：\t886,491.44\n",
      "2020-03-19 22:04:13.721879\t总滑点：\t11,804,500.00\n",
      "2020-03-19 22:04:13.721879\t总成交金额：\t29,549,714,833.00\n",
      "2020-03-19 22:04:13.721879\t总成交笔数：\t23609\n",
      "2020-03-19 22:04:13.721879\t日均盈亏：\t-13,002.49\n",
      "2020-03-19 22:04:13.721879\t日均手续费：\t966.73\n",
      "2020-03-19 22:04:13.721879\t日均滑点：\t12,872.96\n",
      "2020-03-19 22:04:13.721879\t日均成交金额：\t32,224,334.61\n",
      "2020-03-19 22:04:13.721879\t日均成交笔数：\t25.745910577971646\n",
      "2020-03-19 22:04:13.721879\t日均收益率：\t0.19%\n",
      "2020-03-19 22:04:13.721879\t收益标准差：\t8.81%\n",
      "2020-03-19 22:04:13.721879\tSharpe Ratio：\t0.33\n",
      "2020-03-19 22:04:13.721879\t收益回撤比：\t-1.02\n",
      "2020-03-19 22:04:13.721879\t策略统计指标计算完成\n"
     ]
    },
    {
     "name": "stderr",
     "output_type": "stream",
     "text": [
      "c:\\vnstudio\\lib\\site-packages\\vnpy\\app\\cta_strategy\\backtesting.py:394: RuntimeWarning: invalid value encountered in log\n",
      "  df[\"return\"] = np.log(df[\"balance\"] / df[\"balance\"].shift(1)).fillna(0)\n"
     ]
    },
    {
     "data": {
      "text/plain": [
       "{'start_date': datetime.date(2016, 3, 1),\n",
       " 'end_date': datetime.date(2019, 11, 29),\n",
       " 'total_days': 917,\n",
       " 'profit_days': 187,\n",
       " 'loss_days': 730,\n",
       " 'capital': 1000000,\n",
       " 'end_balance': -10923286.444989989,\n",
       " 'max_drawdown': -11950303.904899988,\n",
       " 'max_ddpercent': -1163.5930615967543,\n",
       " 'max_drawdown_duration': 1365,\n",
       " 'total_net_pnl': -11923286.444989994,\n",
       " 'daily_net_pnl': -13002.493396935653,\n",
       " 'total_commission': 886491.4449899999,\n",
       " 'daily_commission': 966.7300381570336,\n",
       " 'total_slippage': 11804500,\n",
       " 'daily_slippage': 12872.955288985824,\n",
       " 'total_turnover': 29549714833.0,\n",
       " 'daily_turnover': 32224334.60523446,\n",
       " 'total_trade_count': 23609,\n",
       " 'daily_trade_count': 25.745910577971646,\n",
       " 'total_return': -1192.328644498999,\n",
       " 'annual_return': -312.05984152645556,\n",
       " 'daily_return': 0.18546305451503456,\n",
       " 'return_std': 8.810316318923908,\n",
       " 'sharpe_ratio': 0.32611556519515283,\n",
       " 'return_drawdown_ratio': -1.0246955605448627}"
      ]
     },
     "execution_count": 1,
     "metadata": {},
     "output_type": "execute_result"
    }
   ],
   "source": [
    "\"\"\"\n",
    "策略开发使用\n",
    "\"\"\"\n",
    "from datetime import datetime\n",
    "from vnpy.app.cta_strategy.backtesting import BacktestingEngine, OptimizationSetting\n",
    "\n",
    "# C:\\self_vnpy\\strategy_storage\\num2_turtle\\turtle_strategy_4.py\n",
    "# from research_strategies.num1_breaker.break_strategy_4 import BreakStrategy\n",
    "# from research_strategies.num3_single_trend.single_trend_strategy import SingleTrendStrategy\n",
    "from strategy_storage.num2_turtle.turtle_strategy_5 import TurtleStrategy\n",
    "\n",
    "engine = BacktestingEngine()\n",
    "engine.set_parameters(\n",
    "    vt_symbol=\"MA99.CZCE\",\n",
    "    interval=\"1m\",\n",
    "    start=datetime(2015, 1, 1),\n",
    "    end=datetime(2019, 12, 1),\n",
    "    rate=0.3/10000,\n",
    "    slippage=1,\n",
    "    size=10,\n",
    "    pricetick=1, # 最小价格变动\n",
    "    capital=1_000_000,\n",
    ")\n",
    "engine.add_strategy(TurtleStrategy, {\n",
    "    'fixed_size': 50,\n",
    "    \n",
    "})\n",
    "\n",
    "engine.load_data()\n",
    "engine.run_backtesting()\n",
    "df = engine.calculate_result()\n",
    "engine.calculate_statistics()"
   ]
  },
  {
   "cell_type": "code",
   "execution_count": null,
   "metadata": {},
   "outputs": [],
   "source": [
    "engine.show_chart()"
   ]
  },
  {
   "cell_type": "code",
   "execution_count": null,
   "metadata": {},
   "outputs": [],
   "source": []
  }
 ],
 "metadata": {
  "kernelspec": {
   "display_name": "Python 3",
   "language": "python",
   "name": "python3"
  },
  "language_info": {
   "codemirror_mode": {
    "name": "ipython",
    "version": 3
   },
   "file_extension": ".py",
   "mimetype": "text/x-python",
   "name": "python",
   "nbconvert_exporter": "python",
   "pygments_lexer": "ipython3",
   "version": "3.7.1"
  }
 },
 "nbformat": 4,
 "nbformat_minor": 2
}
